{
 "cells": [
  {
   "cell_type": "markdown",
   "metadata": {},
   "source": [
    "## Code snippets"
   ]
  },
  {
   "cell_type": "markdown",
   "metadata": {},
   "source": [
    "**/!\\ Any command that works at the command-line can be used in IPython by prefixing it with the <code>!</code> character.** ([source](https://jakevdp.github.io/PythonDataScienceHandbook/01.05-ipython-and-shell-commands.html))\n",
    "\n",
    "Calling Verbiste commands in the terminal from a Jupyter Notebook"
   ]
  },
  {
   "cell_type": "code",
   "execution_count": 3,
   "metadata": {},
   "outputs": [
    {
     "data": {
      "text/plain": [
       "['aimer, indicative, present, 1, plural',\n",
       " 'aimer, imperative, present, 1, plural',\n",
       " '']"
      ]
     },
     "execution_count": 3,
     "metadata": {},
     "output_type": "execute_result"
    }
   ],
   "source": [
    "conjugated_verb = 'aimons'\n",
    "result = ! french-deconjugator {conjugated_verb}\n",
    "result"
   ]
  },
  {
   "cell_type": "code",
   "execution_count": 4,
   "metadata": {},
   "outputs": [
    {
     "data": {
      "text/plain": [
       "['- infinitive present:',\n",
       " 'coder',\n",
       " '- indicative present:',\n",
       " 'code',\n",
       " 'codes',\n",
       " 'code',\n",
       " 'codons',\n",
       " 'codez',\n",
       " 'codent',\n",
       " '- indicative imperfect:',\n",
       " 'codais',\n",
       " 'codais',\n",
       " 'codait',\n",
       " 'codions',\n",
       " 'codiez',\n",
       " 'codaient',\n",
       " '- indicative future:',\n",
       " 'coderai',\n",
       " 'coderas',\n",
       " 'codera',\n",
       " 'coderons',\n",
       " 'coderez',\n",
       " 'coderont',\n",
       " '- indicative past:',\n",
       " 'codai',\n",
       " 'codas',\n",
       " 'coda',\n",
       " 'codâmes',\n",
       " 'codâtes',\n",
       " 'codèrent',\n",
       " '- conditional present:',\n",
       " 'coderais',\n",
       " 'coderais',\n",
       " 'coderait',\n",
       " 'coderions',\n",
       " 'coderiez',\n",
       " 'coderaient',\n",
       " '- subjunctive present:',\n",
       " 'code',\n",
       " 'codes',\n",
       " 'code',\n",
       " 'codions',\n",
       " 'codiez',\n",
       " 'codent',\n",
       " '- subjunctive imperfect:',\n",
       " 'codasse',\n",
       " 'codasses',\n",
       " 'codât',\n",
       " 'codassions',\n",
       " 'codassiez',\n",
       " 'codassent',\n",
       " '- imperative present:',\n",
       " 'code',\n",
       " 'codons',\n",
       " 'codez',\n",
       " '- participle present:',\n",
       " 'codant',\n",
       " '- participle past:',\n",
       " 'codé',\n",
       " 'codés',\n",
       " 'codée',\n",
       " 'codées',\n",
       " '-']"
      ]
     },
     "execution_count": 4,
     "metadata": {},
     "output_type": "execute_result"
    }
   ],
   "source": [
    "verb_infinitive = 'coder'\n",
    "conjugation = ! french-conjugator {verb_infinitive}\n",
    "conjugation"
   ]
  },
  {
   "cell_type": "code",
   "execution_count": null,
   "metadata": {},
   "outputs": [],
   "source": []
  }
 ],
 "metadata": {
  "kernelspec": {
   "display_name": "kamusi",
   "language": "python",
   "name": "kamusi"
  },
  "language_info": {
   "codemirror_mode": {
    "name": "ipython",
    "version": 3
   },
   "file_extension": ".py",
   "mimetype": "text/x-python",
   "name": "python",
   "nbconvert_exporter": "python",
   "pygments_lexer": "ipython3",
   "version": "3.7.7"
  }
 },
 "nbformat": 4,
 "nbformat_minor": 4
}
