{
 "cells": [
  {
   "cell_type": "markdown",
   "metadata": {},
   "source": [
    "## Script finding words unknown to Kam4D from a corpus\n",
    "\n",
    "**Author**: Diane Marquette <br>\n",
    "**Date created**: 20/10/2020 <br>\n",
    "**Date last modified**: 10/11/2020 <br>\n",
    "**Python Version**: 3.7.7"
   ]
  },
  {
   "cell_type": "code",
   "execution_count": 2,
   "metadata": {},
   "outputs": [],
   "source": [
    "import nltk\n",
    "from py2neo import Graph"
   ]
  },
  {
   "cell_type": "code",
   "execution_count": 3,
   "metadata": {},
   "outputs": [],
   "source": [
    "# connect to our database by creating a Neo4j graph database instance\n",
    "kam4d = Graph(\"http://localhost:7474/\")"
   ]
  },
  {
   "cell_type": "code",
   "execution_count": 4,
   "metadata": {},
   "outputs": [],
   "source": [
    "# command to display the query results in a table\n",
    "# kam4d.run(\"MATCH (s:Smurf{spelling:'ragondin'})-[:WRITTEN_IN]->(l:Language {code:'FRA'}) RETURN s,l\").to_table()"
   ]
  },
  {
   "cell_type": "code",
   "execution_count": 9,
   "metadata": {},
   "outputs": [
    {
     "name": "stdout",
     "output_type": "stream",
     "text": [
      "Number of words in the corpus: 187814\n"
     ]
    }
   ],
   "source": [
    "# import corpus\n",
    "data_folder = '/Users/dianemarquette/Documents/Master/Kamusi.nosync/'\n",
    "corpus_file = 'Fre.Freq.3.Hun.txt'\n",
    "\n",
    "with open(data_folder+corpus_file, encoding='utf8') as f:\n",
    "    corpus_index = f.readlines()\n",
    "\n",
    "# delete 1st line corresponding to the columns headers\n",
    "corpus_index = corpus_index[1:]\n",
    "\n",
    "# number of distinct words in the corpus\n",
    "print(\"Number of words in the corpus: {}\".format(len(corpus_index)))"
   ]
  },
  {
   "cell_type": "code",
   "execution_count": 10,
   "metadata": {},
   "outputs": [
    {
     "name": "stdout",
     "output_type": "stream",
     "text": [
      "de\t1483286\t44995.0859\t514548\t58.4279\t940789\t33983.8295\t723168\t35.7325\t1761326\t51479.4279\t510707\t78.7500\n",
      "\n"
     ]
    }
   ],
   "source": [
    "# display 1st line of the corpus index\n",
    "print(corpus_index[0])"
   ]
  },
  {
   "cell_type": "code",
   "execution_count": 11,
   "metadata": {},
   "outputs": [
    {
     "data": {
      "text/plain": [
       "'de\\t1483286\\t44995.0859\\t514548\\t58.4279\\t940789\\t33983.8295\\t723168\\t35.7325\\t1761326\\t51479.4279\\t510707\\t78.7500'"
      ]
     },
     "execution_count": 11,
     "metadata": {},
     "output_type": "execute_result"
    }
   ],
   "source": [
    "# remove spaces at the beginning and at the end of the strings\n",
    "original_vocab = [x.strip() for x in corpus_index] \n",
    "original_vocab[0]"
   ]
  },
  {
   "cell_type": "code",
   "execution_count": 12,
   "metadata": {},
   "outputs": [],
   "source": [
    "# function to tokenize a document\n",
    "def tokenize(text):\n",
    "    tokens = nltk.word_tokenize(text)\n",
    "    return \" \".join([word.lower() for word in tokens])"
   ]
  },
  {
   "cell_type": "code",
   "execution_count": 13,
   "metadata": {},
   "outputs": [
    {
     "data": {
      "text/plain": [
       "['de',\n",
       " '1483286',\n",
       " '44995.0859',\n",
       " '514548',\n",
       " '58.4279',\n",
       " '940789',\n",
       " '33983.8295',\n",
       " '723168',\n",
       " '35.7325',\n",
       " '1761326',\n",
       " '51479.4279',\n",
       " '510707',\n",
       " '78.7500']"
      ]
     },
     "execution_count": 13,
     "metadata": {},
     "output_type": "execute_result"
    }
   ],
   "source": [
    "# tokenize each line of the corpus index\n",
    "corpus_vocab = [tokenize(d).split() for d in original_vocab]\n",
    "corpus_vocab[0]"
   ]
  },
  {
   "cell_type": "code",
   "execution_count": 14,
   "metadata": {},
   "outputs": [
    {
     "data": {
      "text/plain": [
       "['de', 'la', 'et', 'le', 'à', 'l', 'les', 'un', 'en', 'd']"
      ]
     },
     "execution_count": 14,
     "metadata": {},
     "output_type": "execute_result"
    }
   ],
   "source": [
    "# only keep strings corresponding to words\n",
    "corpus_words = [word for document in corpus_vocab for word in document if word.isalpha()]\n",
    "corpus_words[0:10]"
   ]
  },
  {
   "cell_type": "code",
   "execution_count": 15,
   "metadata": {},
   "outputs": [],
   "source": [
    "def detect_unknown_words(language_id, database, corpus_words):\n",
    "    '''\n",
    "     Detect words from a corpus that don't exist in the database\n",
    "     :paramaters: \n",
    "         - language_id -> string such as 'FRA' for French or 'SPA' for Spanish\n",
    "         - database -> a Neo4j graph database instance\n",
    "         - corpus_words -> list of strings corresponding to all the distinct words appearing in a corpus\n",
    "     :return:\n",
    "         - unknown_words -> list of words from the corpus that don't exist in the database\n",
    "     '''\n",
    "    \n",
    "    unknown_words = []\n",
    "\n",
    "    for word in corpus_words[0:100]:\n",
    "        \n",
    "        # check if word from the corpus already exists in the database\n",
    "        # /!\\ add a second curly to tell Python that the first { is actually part of the string (query)\n",
    "        db_matching = database.run(\"MATCH (s:Smurf{{lemma_accent:'{}'}})-[:WRITTEN_IN]->(l:Language {{code:'{}'}}) RETURN s,l\".format(word, language_id))\n",
    "        \n",
    "        # add unknown words to the list\n",
    "        if db_matching.evaluate() == None:\n",
    "            unknown_words.append(word)\n",
    "            \n",
    "    return unknown_words"
   ]
  },
  {
   "cell_type": "code",
   "execution_count": 18,
   "metadata": {},
   "outputs": [
    {
     "name": "stdout",
     "output_type": "stream",
     "text": [
      "CPU times: user 59.1 ms, sys: 13 ms, total: 72.2 ms\n",
      "Wall time: 1.46 s\n"
     ]
    },
    {
     "data": {
      "text/plain": [
       "['de',\n",
       " 'et',\n",
       " 'le',\n",
       " 'à',\n",
       " 'l',\n",
       " 'les',\n",
       " 'en',\n",
       " 'd',\n",
       " 'des',\n",
       " 'que',\n",
       " 'une',\n",
       " 'qui',\n",
       " 'je',\n",
       " 'du',\n",
       " 'il',\n",
       " 'dans',\n",
       " 'a',\n",
       " 'ce',\n",
       " 'qu',\n",
       " 'ne',\n",
       " 'au',\n",
       " 'sur',\n",
       " 'j',\n",
       " 'c',\n",
       " 'n',\n",
       " 'on',\n",
       " 'mais',\n",
       " 'se',\n",
       " 'avec',\n",
       " 's',\n",
       " 'nous',\n",
       " 'vous',\n",
       " 'ai',\n",
       " 'ou',\n",
       " 'elle',\n",
       " 'sont',\n",
       " 'me',\n",
       " 'cette',\n",
       " 'sa',\n",
       " 'mon',\n",
       " 'aux',\n",
       " 'ont',\n",
       " 'ça',\n",
       " 'ils',\n",
       " 'm',\n",
       " 'ses',\n",
       " 'ces',\n",
       " 'leur',\n",
       " 'était',\n",
       " 'sans',\n",
       " 'lui',\n",
       " 'suis',\n",
       " 'ma',\n",
       " 'donc',\n",
       " 'tous',\n",
       " 'où',\n",
       " 'alors',\n",
       " 'quand',\n",
       " 'moi',\n",
       " 'autres',\n",
       " 'peut',\n",
       " 'mes',\n",
       " 'entre',\n",
       " 'avait',\n",
       " 'tu',\n",
       " 'fois',\n",
       " 'cela',\n",
       " 'notre']"
      ]
     },
     "execution_count": 18,
     "metadata": {},
     "output_type": "execute_result"
    }
   ],
   "source": [
    "%%time\n",
    "\n",
    "# find words from the French corpus that aren't in Kam4D\n",
    "unknown_words = detect_unknown_words('FRA', kam4d, corpus_words)\n",
    "unknown_words"
   ]
  },
  {
   "cell_type": "code",
   "execution_count": 17,
   "metadata": {},
   "outputs": [
    {
     "name": "stdout",
     "output_type": "stream",
     "text": [
      "Number of unknown words found in the corpus: 68\n"
     ]
    }
   ],
   "source": [
    "print(\"Number of unknown words found in the corpus: {}\".format(len(unknown_words)))"
   ]
  },
  {
   "cell_type": "code",
   "execution_count": null,
   "metadata": {},
   "outputs": [],
   "source": []
  }
 ],
 "metadata": {
  "kernelspec": {
   "display_name": "dis",
   "language": "python",
   "name": "dis"
  },
  "language_info": {
   "codemirror_mode": {
    "name": "ipython",
    "version": 3
   },
   "file_extension": ".py",
   "mimetype": "text/x-python",
   "name": "python",
   "nbconvert_exporter": "python",
   "pygments_lexer": "ipython3",
   "version": "3.8.2"
  }
 },
 "nbformat": 4,
 "nbformat_minor": 4
}
